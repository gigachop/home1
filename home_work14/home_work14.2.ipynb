{
 "cells": [
  {
   "cell_type": "code",
   "execution_count": 1,
   "metadata": {},
   "outputs": [],
   "source": [
    "import numpy as np\n",
    "import re"
   ]
  },
  {
   "cell_type": "markdown",
   "metadata": {},
   "source": [
    "Выгодна ли игра игроку?\n",
    "\n",
    "Сколько в среднем приобретает\n",
    "или теряет игрок за одну игру?\n",
    "\n",
    "777: 200 руб.\n",
    "\n",
    "999: 100 руб.\n",
    "\n",
    "555: 50 руб.\n",
    "\n",
    "333: 15 руб.\n",
    "\n",
    "111: 10 руб.\n",
    "\n",
    "*77: 5 руб.\n",
    "\n",
    "**7: 3 руб.\n",
    "\n",
    "*00: 2 руб.\n",
    "\n",
    "**0: 1 руб.\n",
    "\n",
    "* – любая цифра"
   ]
  },
  {
   "cell_type": "code",
   "execution_count": 4,
   "metadata": {},
   "outputs": [
    {
     "name": "stdout",
     "output_type": "stream",
     "text": [
      "за 100000 попыток шанс заработать: 0.20268\n",
      "общий выигрыш: 78838 руб.\n",
      "в среднем выигрыш за 1 игру: 0.78838 руб.\n",
      "из 100000 попыток выйгрышных: 20268\n",
      "из 100000 попыток пройгрышных: 79732\n"
     ]
    }
   ],
   "source": [
    "success = 0 # кол во успехов\n",
    "fails = 0 # кол во неудач\n",
    "money = 0 # выйгрыш\n",
    "attempts = 100000 # попытки\n",
    "for i in range(attempts):\n",
    "    number1 = str(np.random.randint(0,1000)).zfill(3) # рандомное число, zfill добавляет нулями слева до заданого кол ва\n",
    "     # а тут просто условия на выйгрыш и пройгрыш\n",
    "    number = int(number1)\n",
    "    if number == 777:\n",
    "        success += 1\n",
    "        money += 200\n",
    "    elif number == 999:\n",
    "        success += 1\n",
    "        money += 100\n",
    "    elif number == 555:\n",
    "        success += 1\n",
    "        money += 50\n",
    "    elif number == 333:\n",
    "        success += 1\n",
    "        money += 15\n",
    "    elif number == 111:\n",
    "        success += 1\n",
    "        money += 10\n",
    "    elif re.match(r'\\d77',number1):\n",
    "        success += 1\n",
    "        money += 5\n",
    "    elif re.match(r'\\d{2}7',number1):\n",
    "        success += 1\n",
    "        money += 3\n",
    "    elif re.match(r'\\d00',number1):\n",
    "        success += 1\n",
    "        money += 2\n",
    "    elif re.match(r'\\d{2}0',number1):\n",
    "        success += 1\n",
    "        money += 1\n",
    "    else:\n",
    "        fails += 1\n",
    "        \n",
    "print(f'за {attempts} попыток шанс заработать: {success/attempts}')\n",
    "print(f'общий выигрыш: {money} руб.')\n",
    "print(f'в среднем выигрыш за 1 игру: {money/attempts} руб.')\n",
    "print(f'из {attempts} попыток выйгрышных: {success}')\n",
    "print(f'из {attempts} попыток пройгрышных: {fails}')"
   ]
  }
 ],
 "metadata": {
  "kernelspec": {
   "display_name": "Python 3",
   "language": "python",
   "name": "python3"
  },
  "language_info": {
   "codemirror_mode": {
    "name": "ipython",
    "version": 3
   },
   "file_extension": ".py",
   "mimetype": "text/x-python",
   "name": "python",
   "nbconvert_exporter": "python",
   "pygments_lexer": "ipython3",
   "version": "3.8.5"
  }
 },
 "nbformat": 4,
 "nbformat_minor": 4
}
