{
 "cells": [
  {
   "cell_type": "code",
   "execution_count": 2,
   "metadata": {},
   "outputs": [],
   "source": [
    "import json\n",
    "import os"
   ]
  },
  {
   "cell_type": "code",
   "execution_count": 8,
   "metadata": {},
   "outputs": [],
   "source": [
    "# 1 часть\n",
    "a = 0 # счётчик\n",
    "file_dict = {} # основной словарь\n",
    "with open('purchase_log.txt', 'r',encoding='utf-8') as file:#открываю файл на чтение и задаю кодировку,без неё поломаные символы\n",
    "    file.readline() # пропускаю первую строку\n",
    "    for i in file: # перебираю каждую строку\n",
    "        \n",
    "        dict_ = json.loads(i) # преобразую строку в словарь\n",
    "        if dict_['user_id'] not in file_dict.keys(): # если ключа нет в словаре \n",
    "            \n",
    "            file_dict[dict_['user_id']] = [dict_['category']] # в основной словарь записываю ключи и значения\n",
    "            \n",
    "        else: # если ключ уже есть в словаре \n",
    "            file_dict[dict_['user_id']].append(dict_['category']) # добавляю значение"
   ]
  },
  {
   "cell_type": "code",
   "execution_count": 11,
   "metadata": {},
   "outputs": [],
   "source": [
    "# 2 часть\n",
    "a = 0 \n",
    "with open('visit_log.csv', 'r',encoding='utf-8') as file:\n",
    "    with open('funnel3.csv', 'w') as final_file:\n",
    "        for i in file: # перебираю каждую строку посищений\n",
    "            temp = i.strip().split(',') # убираю лишние символы(перенос строки), и разделяю каждую строчку по запятой\n",
    "            \n",
    "            if temp[0] in file_dict: # если id пользователя в логах с покупками \n",
    "                for value_dict in file_dict[temp[0]]:\n",
    "                    \n",
    "                    temp.append(value_dict) # то тогда добавляю категорю из покупок\n",
    "                    data = ','.join(temp) # преобразую список для записи для дальнейшего открытия\n",
    "                    final_file.write(data+'\\n') # записываю в файл\n",
    "\n",
    "            else:\n",
    "                continue"
   ]
  },
  {
   "cell_type": "code",
   "execution_count": 12,
   "metadata": {},
   "outputs": [
    {
     "name": "stdout",
     "output_type": "stream",
     "text": [
      "1840e0b9d4,other,Продукты\n",
      "\n",
      "4e4f90fcfb,context,Электроника\n",
      "\n",
      "afea8d72fc,other,Электроника\n",
      "\n",
      "2824221f38,email,Продукты\n",
      "\n",
      "373a6055fe,other,Бытовая техника\n",
      "\n",
      "9b2ab046f3,other,Электроника\n",
      "\n",
      "9f39d307c3,context,Электроника\n",
      "\n",
      "44edeffc91,context,Продукты\n",
      "\n"
     ]
    }
   ],
   "source": [
    "# просто читаю\n",
    "def reading():\n",
    "    a = 0\n",
    "    with open('funnel3.csv', 'r') as f:\n",
    "        for i in f:\n",
    "            print(i)\n",
    "            a += 1\n",
    "            if a ==8: # вывожу токо 8 строк\n",
    "                break\n",
    "reading()"
   ]
  }
 ],
 "metadata": {
  "kernelspec": {
   "display_name": "Python 3",
   "language": "python",
   "name": "python3"
  },
  "language_info": {
   "codemirror_mode": {
    "name": "ipython",
    "version": 3
   },
   "file_extension": ".py",
   "mimetype": "text/x-python",
   "name": "python",
   "nbconvert_exporter": "python",
   "pygments_lexer": "ipython3",
   "version": "3.8.5"
  }
 },
 "nbformat": 4,
 "nbformat_minor": 4
}
