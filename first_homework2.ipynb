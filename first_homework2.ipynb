{
 "cells": [
  {
   "cell_type": "code",
   "execution_count": 13,
   "metadata": {},
   "outputs": [
    {
     "name": "stdout",
     "output_type": "stream",
     "text": [
      "Фраза 1 длиннее фразы 2\n"
     ]
    }
   ],
   "source": [
    "# задане 1\n",
    "phrase_1 = 'Насколько проще было бы писать программы, если бы не заказчики'\n",
    "phrase_2 = '640Кб должно хватить для любых задач. Билл Гейтс (по легенде)'\n",
    "\n",
    "if len(phrase_1) > len(phrase_2):\n",
    "    print('Фраза 1 длиннее фразы 2')\n",
    "elif len(phrase_2) > len(phrase_1):\n",
    "    print('Фраза 2 длиннее фразы 1')\n",
    "else:\n",
    "    print('Фразы равной длины')\n"
   ]
  },
  {
   "cell_type": "code",
   "execution_count": 12,
   "metadata": {},
   "outputs": [
    {
     "name": "stdout",
     "output_type": "stream",
     "text": [
      "Високосный год\n"
     ]
    }
   ],
   "source": [
    "# задание 2\n",
    "year = 2020\n",
    "if (year % 4 == 0 or year % 400 == 0) and year % 100 != 0 :\n",
    "    print('Високосный год')\n",
    "else:\n",
    "    print('Обычный год')"
   ]
  },
  {
   "cell_type": "code",
   "execution_count": 6,
   "metadata": {},
   "outputs": [
    {
     "name": "stdout",
     "output_type": "stream",
     "text": [
      "Введите день: 28\n",
      "Введите месяц: апреля\n",
      "Неверные данные\n"
     ]
    }
   ],
   "source": [
    "# задание 3\n",
    "day = int(input('Введите день: '))\n",
    "month = input('Введите месяц: ')\n",
    "\n",
    "if (21<=day<=31 and month=='март') or (1<=day<=20 and month=='апрель'):\n",
    "    print('Ваш знак зодиака: овен')\n",
    "\n",
    "elif (21<=day<=30 and month=='апрель') or (1<=day<=21 and month=='май'):\n",
    "    print('Ваш знак зодиака: телец')\n",
    "\n",
    "elif (22<=day<=31 and month=='май') or (1<=day<=21 and month=='июнь'):\n",
    "    print('Ваш знак зодиака: близнецы')\n",
    "\n",
    "elif (22<=day<=30 and month=='июнь') or (1<=day<=23 and month=='июль'):\n",
    "    print('Ваш знак зодиака: рак')\n",
    "\n",
    "elif (24<=day<=31 and month=='июль') or (1<=day<=23 and month=='август'):\n",
    "    print('Ваш знак зодиака: лев')\n",
    "\n",
    "elif (24<=day<=31 and month=='август') or (1<=day<=23 and month=='сентябрь'):\n",
    "    print('Ваш знак зодиака: дева')\n",
    "\n",
    "elif (24<=day<=30 and month=='сентябрь') or (1<=day<=23 and month=='октябрь'):\n",
    "    print('Ваш знак зодиака: весы')\n",
    "\n",
    "elif (24<=day<=31 and month=='октябрь') or (1<=day<=22 and month=='ноябрь'):\n",
    "    print('Ваш знак зодиака: скорпион')\n",
    "\n",
    "elif (23<=day<=30 and month=='ноябрь') or (1<=day<=21 and month=='декабрь'):\n",
    "    print('Ваш знак зодиака: стрелец')\n",
    "\n",
    "elif (22<=day<=31 and month=='декабрь') or (1<=day<=20 and month=='январь'):\n",
    "    print('Ваш знак зодиака: козерог')\n",
    "\n",
    "elif (21<=day<=30 and month=='январь') or (1<=day<=19 and month=='февраль'):\n",
    "    print('Ваш знак зодиака: водолей')\n",
    "\n",
    "elif (20<=day<=28 and month=='февраль') or (1<=day<=20 and month=='март'):\n",
    "    print('Ваш знак зодиака: рыбы')\n",
    "\n",
    "else:\n",
    "    print('Неверные данные')"
   ]
  },
  {
   "cell_type": "code",
   "execution_count": 5,
   "metadata": {},
   "outputs": [
    {
     "name": "stdout",
     "output_type": "stream",
     "text": [
      "Упаковка для лыж\n"
     ]
    }
   ],
   "source": [
    "# задание 4\n",
    "width = 45\n",
    "length = 205\n",
    "height = 45\n",
    "if width <15 and length <15 and height <15:\n",
    "    print('Коробка №1')\n",
    "elif ( 15 < length <50) and ((15 < width <50) or (15 < height <50)):\n",
    "    print('Коробка №2')\n",
    "elif length > 200:\n",
    "    print('Упаковка для лыж')\n",
    "else:\n",
    "    print('Стандартная коробка №3')"
   ]
  }
 ],
 "metadata": {
  "kernelspec": {
   "display_name": "Python 3",
   "language": "python",
   "name": "python3"
  },
  "language_info": {
   "codemirror_mode": {
    "name": "ipython",
    "version": 3
   },
   "file_extension": ".py",
   "mimetype": "text/x-python",
   "name": "python",
   "nbconvert_exporter": "python",
   "pygments_lexer": "ipython3",
   "version": "3.8.5"
  }
 },
 "nbformat": 4,
 "nbformat_minor": 4
}
