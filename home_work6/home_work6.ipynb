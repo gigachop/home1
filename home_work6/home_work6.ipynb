{
 "cells": [
  {
   "cell_type": "markdown",
   "metadata": {},
   "source": [
    "# Все подсказки ко времени\n",
    "## https://docs.python.org/3/library/datetime.html\n",
    "обязательно соблюдать в преобразовании дат все запятые, пробелы, точки во всей точности"
   ]
  },
  {
   "cell_type": "code",
   "execution_count": 15,
   "metadata": {},
   "outputs": [],
   "source": [
    "import traceback\n",
    "from datetime import datetime\n",
    "from datetime import timedelta"
   ]
  },
  {
   "cell_type": "code",
   "execution_count": 20,
   "metadata": {},
   "outputs": [
    {
     "name": "stdout",
     "output_type": "stream",
     "text": [
      "The_Moscow_Times время - 2002-10-02\n",
      "The_Guardian время - 2010-11-13\n",
      "Daily_News время - 1977-08-18\n"
     ]
    }
   ],
   "source": [
    "# задание 1\n",
    "\n",
    "The_Moscow_Times = 'Wednesday, October 2, 2002'\n",
    "The_Guardian = 'Friday, 11.10.13' # я не знаю что сдесь год а что месяц\n",
    "Daily_News = 'Thursday, 18 August 1977'\n",
    "\n",
    "def moscow_date():\n",
    "    moscow_dt = datetime.strptime(The_Moscow_Times, '%A, %B %d, %Y') # преобразовываю строку в формат даты\n",
    "    return 'The_Moscow_Times время - '+ moscow_dt.strftime('%Y-%m-%d') # преобразовываю дату в строку\n",
    "\n",
    "def guardian_date():\n",
    "    guardian_dt = datetime.strptime(The_Guardian, '%A, %m.%y.%d') # преобразовываю строку в формат даты\n",
    "    return 'The_Guardian время - '+ guardian_dt.strftime('%Y-%m-%d') # преобразовываю дату в строку\n",
    "\n",
    "def daily_date():\n",
    "    daily_dt = datetime.strptime(Daily_News, '%A, %d %B %Y') # преобразовываю строку в формат даты\n",
    "    return 'Daily_News время - '+ daily_dt.strftime('%Y-%m-%d') # преобразовываю дату в строку\n",
    "\n",
    "# вызывая все функции    \n",
    "print(moscow_date())\n",
    "print(guardian_date())\n",
    "print(daily_date())"
   ]
  },
  {
   "cell_type": "code",
   "execution_count": 32,
   "metadata": {},
   "outputs": [
    {
     "name": "stdout",
     "output_type": "stream",
     "text": [
      "False некорректная дата\n",
      "True 2018-04-02\n",
      "False некорректная дата\n"
     ]
    }
   ],
   "source": [
    "# задание 2\n",
    "\n",
    "stream = [ '2018-02-29', '2018-04-02','2018-19-02']\n",
    "\n",
    "def ok_date():\n",
    "    for i in stream: # перебираю все строки\n",
    "        try: # если не вылазит ошибка то\n",
    "            stream_dt = datetime.strptime(i, '%Y-%m-%d') # преобразовываю строку в формат даты\n",
    "            print('True ' + stream_dt.strftime('%Y-%m-%d')) # преобразовываю дату в строку\n",
    "        except: # если вылазит ошибка то пешу что некоректные данные\n",
    "            print('False ' + 'некорректная дата')\n",
    "ok_date()"
   ]
  },
  {
   "cell_type": "code",
   "execution_count": 18,
   "metadata": {},
   "outputs": [
    {
     "name": "stdout",
     "output_type": "stream",
     "text": [
      "Введите начальную дату в формате YYYY-MM-DD : 2018-04-02\n",
      "Введите конечную дату в формате YYYY-MM-DD : 2018-03-02\n"
     ]
    },
    {
     "data": {
      "text/plain": [
       "[]"
      ]
     },
     "execution_count": 18,
     "metadata": {},
     "output_type": "execute_result"
    }
   ],
   "source": [
    "# задание 3\n",
    "\n",
    "\n",
    "def date_range():\n",
    "    all_dates = [] # список для всех дат\n",
    "    none_dates = [] # пустой список при ошибке\n",
    "    \n",
    "    start_date = input('Введите начальную дату в формате YYYY-MM-DD : ') # запрашиваю стартовую дату\n",
    "    end_date = input('Введите конечную дату в формате YYYY-MM-DD : ') # запрашиваю конечную дату\n",
    "    \n",
    "    try: # если не вылезет ошибка выведу все даты\n",
    "        \n",
    "        start_date_dt = datetime.strptime(start_date, '%Y-%m-%d') # преобразовываю строку в дату\n",
    "        end_date_dt = datetime.strptime(end_date, '%Y-%m-%d') # преобразовываю строку в дату\n",
    "        current_dt = start_date_dt\n",
    "        \n",
    "        while current_dt <= end_date_dt: # и пока дата не дойдёт до конечной\n",
    "            str_date = current_dt.strftime('%Y-%m-%d') # преобразовываю в строку\n",
    "            all_dates.append(str_date) # добавляю в общий список\n",
    "            \n",
    "            print(str_date)\n",
    "            current_dt += timedelta(days=1) # прибаляю дни\n",
    "            \n",
    "    except: # если ошибка вывожу пустой список\n",
    "        return none_dates\n",
    "    \n",
    "    \n",
    "    return all_dates\n",
    "\n",
    "date_range()"
   ]
  },
  {
   "cell_type": "code",
   "execution_count": 23,
   "metadata": {},
   "outputs": [
    {
     "data": {
      "text/plain": [
       "'A101'"
      ]
     },
     "execution_count": 23,
     "metadata": {},
     "output_type": "execute_result"
    }
   ],
   "source": [
    "# задание 4\n",
    "\n",
    "# 1 вопрос\n",
    "\"\"\"\n",
    "значит что ошибка в диапазоне указании индекса при обращении к списку \n",
    "\"\"\"\n",
    "# 2 вопрос \n",
    "\"\"\"\n",
    "потому что при первом запуске функция удаляет последний элемент(остаётся 2) и возвращяет 2 с конца, на 2 раз она\n",
    "так же удаляет последний жлемент(остаётся 1) и пробует взять 2 с конца но не второго с конца нет и вылазит ошибка\n",
    "\"\"\""
   ]
  }
 ],
 "metadata": {
  "kernelspec": {
   "display_name": "Python 3",
   "language": "python",
   "name": "python3"
  },
  "language_info": {
   "codemirror_mode": {
    "name": "ipython",
    "version": 3
   },
   "file_extension": ".py",
   "mimetype": "text/x-python",
   "name": "python",
   "nbconvert_exporter": "python",
   "pygments_lexer": "ipython3",
   "version": "3.8.5"
  }
 },
 "nbformat": 4,
 "nbformat_minor": 4
}
