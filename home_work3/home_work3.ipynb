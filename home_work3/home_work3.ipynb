{
 "cells": [
  {
   "cell_type": "code",
   "execution_count": 1,
   "metadata": {},
   "outputs": [
    {
     "name": "stdout",
     "output_type": "stream",
     "text": [
      "{98, 35, 15, 213, 54, 119}\n"
     ]
    }
   ],
   "source": [
    "# задание 1\n",
    "\n",
    "ids = {'user1': [213, 213, 213, 15, 213],\n",
    "'user2': [54, 54, 119, 119, 119],\n",
    "'user3': [213, 98, 98, 35]}\n",
    "\n",
    "all_geo = []\n",
    "\n",
    "for i in ids.values():\n",
    "    all_geo += i\n",
    "print(set(all_geo)) # сделал всё уникальным переведя в множество"
   ]
  },
  {
   "cell_type": "code",
   "execution_count": 2,
   "metadata": {},
   "outputs": [
    {
     "name": "stdout",
     "output_type": "stream",
     "text": [
      "Поисковых запросов, содержащих 2 слов(а): 42.86\n",
      "Поисковых запросов, содержащих 3 слов(а): 57.14\n"
     ]
    }
   ],
   "source": [
    "# задание 2\n",
    "\n",
    "ueries = [ 'смотреть сериалы онлайн', \n",
    "          'новости спорта', 'афиша кино', \n",
    "          'курс доллара', 'сериалы этим летом', \n",
    "          'курс по питону', 'сериалы про спорт', ]\n",
    "\n",
    "two = 0 # счётчик для 2 слов\n",
    "three = 0 # счётчик для 3 слов\n",
    "\n",
    "for i in ueries: # беру каждый запрос и делю его\n",
    "    temp = i.split(' ') # записываю в временную переменную\n",
    "    \n",
    "    if len(temp) == 2: # если слова 2 то сумирую здеся\n",
    "        \n",
    "        two += 1 # сумирую по 2 слова\n",
    "        \n",
    "    elif len(temp) == 3:\n",
    "        \n",
    "        three += 1 # сумирую по 3 слова\n",
    "        \n",
    "print('Поисковых запросов, содержащих 2 слов(а):', round(two*100 / len(ueries),2))\n",
    "print('Поисковых запросов, содержащих 3 слов(а):', round(three*100 / len(ueries),2))\n"
   ]
  },
  {
   "cell_type": "code",
   "execution_count": 3,
   "metadata": {},
   "outputs": [
    {
     "data": {
      "text/plain": [
       "{'vk': {'revenue': 103, 'cost': 98, 'ROI': 5.1},\n",
       " 'yandex': {'revenue': 179, 'cost': 153, 'ROI': 16.99},\n",
       " 'facebook': {'revenue': 103, 'cost': 110, 'ROI': -6.36},\n",
       " 'adwords': {'revenue': 35, 'cost': 34, 'ROI': 2.94},\n",
       " 'twitter': {'revenue': 11, 'cost': 24, 'ROI': -54.17}}"
      ]
     },
     "execution_count": 3,
     "metadata": {},
     "output_type": "execute_result"
    }
   ],
   "source": [
    "# задание 3\n",
    "\n",
    "results = { 'vk': {'revenue': 103, 'cost': 98},\n",
    "           'yandex': {'revenue': 179, 'cost': 153},\n",
    "           'facebook': {'revenue': 103, 'cost': 110},\n",
    "           'adwords': {'revenue': 35, 'cost': 34},\n",
    "           'twitter': {'revenue': 11, 'cost': 24}\n",
    "          }\n",
    "\n",
    "temp = 0 # создал временную переменную\n",
    "\n",
    "for key, value in results.items(): # распределил ключи и значения\n",
    "    \n",
    "    temp = (value['revenue']/value['cost']-1)*100 # в временную переменную записал формулу\n",
    "    \n",
    "    results[key]['ROI'] = round(temp,2) # добавил элемент по ключу\n",
    "    \n",
    "results # вывел в столбик"
   ]
  },
  {
   "cell_type": "code",
   "execution_count": 4,
   "metadata": {},
   "outputs": [
    {
     "name": "stdout",
     "output_type": "stream",
     "text": [
      "Максимальный объем продаж на рекламном канале: vk, amazon\n"
     ]
    }
   ],
   "source": [
    "# задание 4 \n",
    "\n",
    "stats = {'facebook': 55, 'yandex': 115, 'vk': 120, 'google': 99, 'email': 42, 'ok': 98, 'amazon':120}\n",
    "\n",
    "\n",
    "maximum = max(stats.values()) # сюда записал максимальное значение\n",
    "all_keys = [] # список для всех значений\n",
    "\n",
    "\n",
    "for key,value in stats.items():\n",
    "    if value == maximum: # если значение равно максимальному то дабовляю его в список\n",
    "        all_keys.append(key)\n",
    "    \n",
    "all_keys = ', '.join(all_keys) # обьеденил список\n",
    "print(f'Максимальный объем продаж на рекламном канале: {all_keys}')"
   ]
  },
  {
   "cell_type": "code",
   "execution_count": 17,
   "metadata": {},
   "outputs": [
    {
     "name": "stdout",
     "output_type": "stream",
     "text": [
      "stats = {‘facebook’: 55, ‘yandex’: 115, ‘vk’: 120, ‘google’: 99, ‘email’: 42, ‘ok’: 98}\n",
      "stats = {'facebook': 55, 'yandex': 115, 'vk': 120, 'google': 99, 'email': 42, 'ok': 98}\n"
     ]
    }
   ],
   "source": [
    "# а это просто замена символов так как в домашке почему то всегда левые кавычки\n",
    "a = input()\n",
    "b = a.replace('‘',\"'\")\n",
    "b = b.replace('’',\"'\")\n",
    "print(b)"
   ]
  }
 ],
 "metadata": {
  "kernelspec": {
   "display_name": "Python 3",
   "language": "python",
   "name": "python3"
  },
  "language_info": {
   "codemirror_mode": {
    "name": "ipython",
    "version": 3
   },
   "file_extension": ".py",
   "mimetype": "text/x-python",
   "name": "python",
   "nbconvert_exporter": "python",
   "pygments_lexer": "ipython3",
   "version": "3.8.5"
  }
 },
 "nbformat": 4,
 "nbformat_minor": 4
}
