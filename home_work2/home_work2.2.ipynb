{
 "cells": [
  {
   "cell_type": "code",
   "execution_count": 16,
   "metadata": {},
   "outputs": [
    {
     "name": "stdout",
     "output_type": "stream",
     "text": [
      "st\n"
     ]
    }
   ],
   "source": [
    "# задание 1\n",
    "word = 'testim'\n",
    "dlina = len(word)\n",
    "otstup = dlina // 2  # размечаем половину слова\n",
    "\n",
    "if dlina % 2 != 0: # если длина чётная то берём 2 буквы\n",
    "    print(word[otstup:otstup+1]) # отступаем половину и берём 2 буквы\n",
    "else:\n",
    "    # отступаем чють меньше половины и берём 1 букву\n",
    "    print(word[otstup-1:otstup+1]) # если нет то 1 букву"
   ]
  },
  {
   "cell_type": "code",
   "execution_count": 15,
   "metadata": {},
   "outputs": [
    {
     "name": "stdout",
     "output_type": "stream",
     "text": [
      "Введите число:\n",
      "8\n",
      "Введите число:\n",
      "3\n",
      "Введите число:\n",
      "0\n",
      "Результат: 11\n"
     ]
    }
   ],
   "source": [
    "# задание 2\n",
    "fake = 1 # рычаг для работы и остановки цыкла\n",
    "user_number = 0 # число которое вводит пользователь\n",
    "summa = 0 # сумма всех вводимых чисел\n",
    "\n",
    "while fake != 0:\n",
    "    user_number = int(input('Введите число: ')) # просим ввести число\n",
    "    summa += user_number # накапливаем все вводимые числа\n",
    "    if user_number == 0: # если вводимое число = 0, то останавливаем цикл\n",
    "        fake = 0\n",
    "    else:\n",
    "        continue\n",
    "print('Результат:',summa)"
   ]
  },
  {
   "cell_type": "code",
   "execution_count": 14,
   "metadata": {},
   "outputs": [
    {
     "name": "stdout",
     "output_type": "stream",
     "text": [
      "Идеальные пары:\n",
      "[('Alex', 'Emma'), ('Arthur', 'Kate'), ('John', 'Kira'), ('Peter', 'Liza'), ('Richard', 'Trisha')]\n"
     ]
    }
   ],
   "source": [
    "# задание 3\n",
    "boys = [\"Peter\", \"Alex\", \"John\", \"Arthur\", \"Richard\"]\n",
    "s_boys = sorted(boys) # сортируем\n",
    "\n",
    "girls = [\"Kate\", \"Liza\", \"Kira\", \"Emma\", \"Trisha\"]\n",
    "s_girls = sorted(girls) # сортируем\n",
    "\n",
    "if len(boys) == len(girls): # если везде длинна одинаковая то соеденяем 2 списка\n",
    "    pair = zip(s_boys,s_girls)\n",
    "    print('Идеальные пары:')\n",
    "    print(list(pair))\n",
    "else:\n",
    "    print('Внимание, кто-то может остаться без пары!') # иначе выводим оповещение"
   ]
  },
  {
   "cell_type": "code",
   "execution_count": 13,
   "metadata": {},
   "outputs": [
    {
     "name": "stdout",
     "output_type": "stream",
     "text": [
      "Thailand - 23.9 C\n",
      "Germany - 13.8 C\n",
      "Russia - 3.7 C\n",
      "Poland - 12.0 C\n"
     ]
    }
   ],
   "source": [
    "# задание 4\n",
    "countries_temperature = [\n",
    "['Thailand', [75.2, 77, 78.8, 73.4, 68, 75.2, 77]],\n",
    "['Germany', [57.2, 55.4, 59, 59, 53.6]],\n",
    "['Russia', [35.6, 37.4, 39.2, 41, 42.8, 39.2, 35.6]],\n",
    "['Poland', [50, 50, 53.6, 57.2, 55.4, 55.4]]\n",
    "]\n",
    "summa = 0 # переменная для суммы\n",
    "count = 0 # переменная для количества\n",
    "\n",
    "for i in countries_temperature:\n",
    "    summa = sum(i[1]) # расчитываем сумму\n",
    "    count = len(i[1]) # расчитываем количество\n",
    "    print(i[0],'-', \n",
    "          round( # округление\n",
    "              ((summa/count)-32)*(5/9), 1), 'C') "
   ]
  }
 ],
 "metadata": {
  "kernelspec": {
   "display_name": "Python 3",
   "language": "python",
   "name": "python3"
  },
  "language_info": {
   "codemirror_mode": {
    "name": "ipython",
    "version": 3
   },
   "file_extension": ".py",
   "mimetype": "text/x-python",
   "name": "python",
   "nbconvert_exporter": "python",
   "pygments_lexer": "ipython3",
   "version": "3.8.5"
  }
 },
 "nbformat": 4,
 "nbformat_minor": 4
}
